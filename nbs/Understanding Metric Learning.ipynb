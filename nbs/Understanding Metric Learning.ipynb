{
 "cells": [
  {
   "cell_type": "markdown",
   "metadata": {},
   "source": [
    "# Metric Learning"
   ]
  },
  {
   "cell_type": "markdown",
   "metadata": {},
   "source": [
    "In this notebook, we will specifically be looking at Metric Learning. A complete blog post is available [here](http://amaarora.github.io/). \n",
    "\n",
    "With metric learning, the main idea is to increase the inter class discriminations and the intra class compactness. "
   ]
  },
  {
   "cell_type": "code",
   "execution_count": 1,
   "metadata": {},
   "outputs": [],
   "source": [
    "from pathlib import Path\n",
    "import math\n",
    "import pandas as pd \n",
    "import numpy as np \n",
    "from PIL import Image\n",
    "from matplotlib import pyplot as plt\n",
    "import torch\n",
    "import albumentations\n",
    "from torchvision import models\n",
    "import torch.nn as nn\n",
    "from tqdm import tqdm\n",
    "import seaborn as sns\n",
    "import torch.nn.functional as F\n",
    "from torchvision.models.utils import load_state_dict_from_url"
   ]
  },
  {
   "cell_type": "code",
   "execution_count": 2,
   "metadata": {},
   "outputs": [],
   "source": [
    "DATA_PATH = Path('/home/ubuntu/.fastai/data/mnist_png/')\n",
    "EPOCHS    = 5"
   ]
  },
  {
   "cell_type": "markdown",
   "metadata": {},
   "source": [
    "## Extract labels and create train-val splits"
   ]
  },
  {
   "cell_type": "code",
   "execution_count": 3,
   "metadata": {
    "scrolled": true
   },
   "outputs": [
    {
     "data": {
      "text/plain": [
       "(70000,\n",
       " [PosixPath('/home/ubuntu/.fastai/data/mnist_png/training/9/48159.png'),\n",
       "  PosixPath('/home/ubuntu/.fastai/data/mnist_png/training/9/1695.png')])"
      ]
     },
     "execution_count": 3,
     "metadata": {},
     "output_type": "execute_result"
    }
   ],
   "source": [
    "img_paths = list(DATA_PATH.rglob('*.png'))\n",
    "len(img_paths), img_paths[:2]"
   ]
  },
  {
   "cell_type": "code",
   "execution_count": 4,
   "metadata": {},
   "outputs": [],
   "source": [
    "def extract_label(o):\n",
    "     return o.parent.stem"
   ]
  },
  {
   "cell_type": "code",
   "execution_count": 5,
   "metadata": {},
   "outputs": [
    {
     "data": {
      "text/html": [
       "<div>\n",
       "<style scoped>\n",
       "    .dataframe tbody tr th:only-of-type {\n",
       "        vertical-align: middle;\n",
       "    }\n",
       "\n",
       "    .dataframe tbody tr th {\n",
       "        vertical-align: top;\n",
       "    }\n",
       "\n",
       "    .dataframe thead th {\n",
       "        text-align: right;\n",
       "    }\n",
       "</style>\n",
       "<table border=\"1\" class=\"dataframe\">\n",
       "  <thead>\n",
       "    <tr style=\"text-align: right;\">\n",
       "      <th></th>\n",
       "      <th>img_paths</th>\n",
       "      <th>labels</th>\n",
       "    </tr>\n",
       "  </thead>\n",
       "  <tbody>\n",
       "    <tr>\n",
       "      <th>0</th>\n",
       "      <td>/home/ubuntu/.fastai/data/mnist_png/training/9...</td>\n",
       "      <td>9</td>\n",
       "    </tr>\n",
       "    <tr>\n",
       "      <th>1</th>\n",
       "      <td>/home/ubuntu/.fastai/data/mnist_png/training/9...</td>\n",
       "      <td>9</td>\n",
       "    </tr>\n",
       "    <tr>\n",
       "      <th>2</th>\n",
       "      <td>/home/ubuntu/.fastai/data/mnist_png/training/9...</td>\n",
       "      <td>9</td>\n",
       "    </tr>\n",
       "    <tr>\n",
       "      <th>3</th>\n",
       "      <td>/home/ubuntu/.fastai/data/mnist_png/training/9...</td>\n",
       "      <td>9</td>\n",
       "    </tr>\n",
       "    <tr>\n",
       "      <th>4</th>\n",
       "      <td>/home/ubuntu/.fastai/data/mnist_png/training/9...</td>\n",
       "      <td>9</td>\n",
       "    </tr>\n",
       "  </tbody>\n",
       "</table>\n",
       "</div>"
      ],
      "text/plain": [
       "                                           img_paths labels\n",
       "0  /home/ubuntu/.fastai/data/mnist_png/training/9...      9\n",
       "1  /home/ubuntu/.fastai/data/mnist_png/training/9...      9\n",
       "2  /home/ubuntu/.fastai/data/mnist_png/training/9...      9\n",
       "3  /home/ubuntu/.fastai/data/mnist_png/training/9...      9\n",
       "4  /home/ubuntu/.fastai/data/mnist_png/training/9...      9"
      ]
     },
     "execution_count": 5,
     "metadata": {},
     "output_type": "execute_result"
    }
   ],
   "source": [
    "df = pd.DataFrame({'img_paths': img_paths})\n",
    "df['labels'] = df.img_paths.map(extract_label)\n",
    "df.head()"
   ]
  },
  {
   "cell_type": "code",
   "execution_count": 6,
   "metadata": {},
   "outputs": [],
   "source": [
    "def is_val(o):\n",
    "    return 'training' not in str(o)"
   ]
  },
  {
   "cell_type": "code",
   "execution_count": 7,
   "metadata": {},
   "outputs": [
    {
     "data": {
      "text/html": [
       "<div>\n",
       "<style scoped>\n",
       "    .dataframe tbody tr th:only-of-type {\n",
       "        vertical-align: middle;\n",
       "    }\n",
       "\n",
       "    .dataframe tbody tr th {\n",
       "        vertical-align: top;\n",
       "    }\n",
       "\n",
       "    .dataframe thead th {\n",
       "        text-align: right;\n",
       "    }\n",
       "</style>\n",
       "<table border=\"1\" class=\"dataframe\">\n",
       "  <thead>\n",
       "    <tr style=\"text-align: right;\">\n",
       "      <th></th>\n",
       "      <th>img_paths</th>\n",
       "      <th>labels</th>\n",
       "      <th>is_val</th>\n",
       "    </tr>\n",
       "  </thead>\n",
       "  <tbody>\n",
       "    <tr>\n",
       "      <th>0</th>\n",
       "      <td>/home/ubuntu/.fastai/data/mnist_png/training/9...</td>\n",
       "      <td>9</td>\n",
       "      <td>False</td>\n",
       "    </tr>\n",
       "    <tr>\n",
       "      <th>1</th>\n",
       "      <td>/home/ubuntu/.fastai/data/mnist_png/training/9...</td>\n",
       "      <td>9</td>\n",
       "      <td>False</td>\n",
       "    </tr>\n",
       "    <tr>\n",
       "      <th>2</th>\n",
       "      <td>/home/ubuntu/.fastai/data/mnist_png/training/9...</td>\n",
       "      <td>9</td>\n",
       "      <td>False</td>\n",
       "    </tr>\n",
       "    <tr>\n",
       "      <th>3</th>\n",
       "      <td>/home/ubuntu/.fastai/data/mnist_png/training/9...</td>\n",
       "      <td>9</td>\n",
       "      <td>False</td>\n",
       "    </tr>\n",
       "    <tr>\n",
       "      <th>4</th>\n",
       "      <td>/home/ubuntu/.fastai/data/mnist_png/training/9...</td>\n",
       "      <td>9</td>\n",
       "      <td>False</td>\n",
       "    </tr>\n",
       "  </tbody>\n",
       "</table>\n",
       "</div>"
      ],
      "text/plain": [
       "                                           img_paths labels  is_val\n",
       "0  /home/ubuntu/.fastai/data/mnist_png/training/9...      9   False\n",
       "1  /home/ubuntu/.fastai/data/mnist_png/training/9...      9   False\n",
       "2  /home/ubuntu/.fastai/data/mnist_png/training/9...      9   False\n",
       "3  /home/ubuntu/.fastai/data/mnist_png/training/9...      9   False\n",
       "4  /home/ubuntu/.fastai/data/mnist_png/training/9...      9   False"
      ]
     },
     "execution_count": 7,
     "metadata": {},
     "output_type": "execute_result"
    }
   ],
   "source": [
    "df['is_val'] = -1\n",
    "df['is_val'] = df.img_paths.map(is_val)\n",
    "df.head()"
   ]
  },
  {
   "cell_type": "code",
   "execution_count": 8,
   "metadata": {},
   "outputs": [
    {
     "data": {
      "text/plain": [
       "(60000, 10000)"
      ]
     },
     "execution_count": 8,
     "metadata": {},
     "output_type": "execute_result"
    }
   ],
   "source": [
    "trn = df.query(\"is_val==False\")\n",
    "val = df.query(\"is_val==True\")\n",
    "\n",
    "len(trn), len(val)"
   ]
  },
  {
   "cell_type": "markdown",
   "metadata": {},
   "source": [
    "## Dataset"
   ]
  },
  {
   "cell_type": "code",
   "execution_count": 9,
   "metadata": {},
   "outputs": [],
   "source": [
    "class MNIST_Dataset():\n",
    "    def __init__(self, df, augmentations=None):\n",
    "        self.df            = df\n",
    "        self.img_paths     = df.img_paths.values\n",
    "        self.labels        = df.labels.values\n",
    "        self.augmentations = augmentations\n",
    "        \n",
    "    def __getitem__(self, idx):\n",
    "        img_path = self.img_paths[idx]\n",
    "        label    = self.labels[idx]        \n",
    "        \n",
    "        img = Image.open(img_path)\n",
    "        img = img.convert('RGB')\n",
    "        img = np.array(img)\n",
    "        \n",
    "        if self.augmentations is not None:\n",
    "            augmented = self.augmentations(image=img)\n",
    "            img       = augmented['image']\n",
    "        \n",
    "        img = np.transpose(img, (2, 0, 1)).astype(np.float32)    \n",
    "        \n",
    "        return {\n",
    "            'image': torch.tensor(img, dtype=torch.float), \n",
    "            'label': torch.tensor(int(label), dtype=torch.long)\n",
    "        }\n",
    "    \n",
    "    def __len__(self): \n",
    "        return len(self.df)"
   ]
  },
  {
   "cell_type": "code",
   "execution_count": 10,
   "metadata": {},
   "outputs": [],
   "source": [
    "train_aug = albumentations.Compose([\n",
    "    albumentations.Normalize()\n",
    "])\n",
    "\n",
    "val_aug = albumentations.Compose([\n",
    "    albumentations.Normalize()\n",
    "\n",
    "])"
   ]
  },
  {
   "cell_type": "code",
   "execution_count": 11,
   "metadata": {},
   "outputs": [],
   "source": [
    "train_dataset = MNIST_Dataset(trn, augmentations=train_aug)\n",
    "val_dataset   = MNIST_Dataset(val, augmentations=val_aug)"
   ]
  },
  {
   "cell_type": "code",
   "execution_count": 12,
   "metadata": {},
   "outputs": [],
   "source": [
    "train_dataloader = torch.utils.data.DataLoader(train_dataset, batch_size=64, shuffle=True)\n",
    "val_dataloader   = torch.utils.data.DataLoader(val_dataset, batch_size=64, num_workers=4, shuffle=False)"
   ]
  },
  {
   "cell_type": "code",
   "execution_count": 13,
   "metadata": {},
   "outputs": [
    {
     "data": {
      "text/plain": [
       "torch.Size([64, 3, 28, 28])"
      ]
     },
     "execution_count": 13,
     "metadata": {},
     "output_type": "execute_result"
    }
   ],
   "source": [
    "next(iter(train_dataloader))['image'].shape"
   ]
  },
  {
   "cell_type": "markdown",
   "metadata": {},
   "source": [
    "## Model"
   ]
  },
  {
   "cell_type": "code",
   "execution_count": 14,
   "metadata": {},
   "outputs": [],
   "source": [
    "class Resnet(nn.Module):\n",
    "    def __init__(self, pretrained=True, arch_name='resnet34', n_out=10):\n",
    "        super(Resnet, self).__init__()\n",
    "        self.pretrained = pretrained\n",
    "        self.base_model = getattr(models, arch_name)()\n",
    "        nftrs           = self.base_model.fc.in_features\n",
    "        self.base_model.fc = nn.Linear(nftrs, 2)\n",
    "        self.fc         = nn.Linear(2, n_out)\n",
    "\n",
    "\n",
    "    def forward(self, image, **kwargs):\n",
    "        o1 = self.base_model(image)  \n",
    "        o2 = self.fc(o1)\n",
    "        return o1, o2"
   ]
  },
  {
   "cell_type": "code",
   "execution_count": 15,
   "metadata": {},
   "outputs": [],
   "source": [
    "# project logits to 2 dim\n",
    "model = Resnet()\n",
    "model = model.to('cuda')"
   ]
  },
  {
   "cell_type": "markdown",
   "metadata": {},
   "source": [
    "## Training"
   ]
  },
  {
   "cell_type": "code",
   "execution_count": 16,
   "metadata": {},
   "outputs": [],
   "source": [
    "class AverageMeter:\n",
    "    \"\"\"\n",
    "    Computes and stores the average and current value\n",
    "    \"\"\"\n",
    "\n",
    "    def __init__(self):\n",
    "        self.val = 0\n",
    "        self.avg = 0\n",
    "        self.sum = 0\n",
    "        self.count = 0\n",
    "\n",
    "    def reset(self):\n",
    "        self.val = 0\n",
    "        self.avg = 0\n",
    "        self.sum = 0\n",
    "        self.count = 0\n",
    "\n",
    "    def update(self, val, n=1):\n",
    "        self.val = val\n",
    "        self.sum += val * n\n",
    "        self.count += n\n",
    "        self.avg = self.sum / self.count"
   ]
  },
  {
   "cell_type": "code",
   "execution_count": 17,
   "metadata": {},
   "outputs": [],
   "source": [
    "def train_one_epoch(train_loader, model, optimizer, loss_fn=nn.CrossEntropyLoss(), device='cuda'):\n",
    "    losses = AverageMeter()\n",
    "    model.train()\n",
    "    tk0 = tqdm(train_loader, total=len(train_loader))\n",
    "    for b_idx, data in enumerate(tk0):\n",
    "        data['image']  = data['image'].to(device)\n",
    "        data['label']  = data['label'].to(device)\n",
    "        \n",
    "        optimizer.zero_grad()\n",
    "        o1, o2 = model(**data)\n",
    "        \n",
    "        loss = loss_fn(o2, data['label'])\n",
    "\n",
    "        with torch.set_grad_enabled(True):\n",
    "            loss.backward()\n",
    "            optimizer.step()\n",
    "            optimizer.zero_grad()\n",
    "        losses.update(loss.item(), train_loader.batch_size)\n",
    "        tk0.set_postfix(loss=losses.avg)\n",
    "    return losses.avg"
   ]
  },
  {
   "cell_type": "code",
   "execution_count": 18,
   "metadata": {},
   "outputs": [],
   "source": [
    "params = list(model.parameters()) #+list(model.base_model.parameters()) + \n",
    "optimizer = torch.optim.Adam(params, lr=1e-4)"
   ]
  },
  {
   "cell_type": "code",
   "execution_count": 19,
   "metadata": {},
   "outputs": [],
   "source": [
    "def evaluate(valid_loader, model, device='cuda'):\n",
    "    losses = AverageMeter()\n",
    "    final_preds = []\n",
    "    model.eval()\n",
    "    preds_  = torch.zeros(1,2)\n",
    "    labels_ = np.array([])\n",
    "    with torch.no_grad():\n",
    "        tk0 = tqdm(valid_loader, total=len(valid_loader))\n",
    "        for data in tk0:\n",
    "            for key, value in data.items():\n",
    "                data[key] = value.to(device)\n",
    "            o1, o2 = model(**data)\n",
    "            preds_ = torch.cat([preds_, o1.cpu()])\n",
    "            labels_ = np.append(labels_, data['label'].cpu().numpy())\n",
    "            loss   = nn.CrossEntropyLoss()(o2, data['label'])\n",
    "            preds  = o2.argmax(1)\n",
    "            acc    = (preds == data['label']).float().mean()\n",
    "            losses.update(acc.item(), valid_loader.batch_size) \n",
    "            preds = preds.cpu().numpy()\n",
    "            final_preds.extend(preds)\n",
    "            tk0.set_postfix(loss=losses.avg)\n",
    "    return losses.avg, preds_[1:], labels_"
   ]
  },
  {
   "cell_type": "markdown",
   "metadata": {},
   "source": [
    "### With Softmax Loss"
   ]
  },
  {
   "cell_type": "code",
   "execution_count": 20,
   "metadata": {},
   "outputs": [
    {
     "name": "stderr",
     "output_type": "stream",
     "text": [
      "100%|██████████| 938/938 [01:02<00:00, 14.99it/s, loss=0.862]\n",
      "100%|██████████| 938/938 [01:02<00:00, 14.94it/s, loss=0.368]\n",
      "100%|██████████| 938/938 [01:03<00:00, 14.83it/s, loss=0.179]\n",
      "100%|██████████| 938/938 [01:03<00:00, 14.79it/s, loss=0.134]\n",
      "100%|██████████| 938/938 [01:03<00:00, 14.75it/s, loss=0.104] \n"
     ]
    }
   ],
   "source": [
    "# TRAINING using Tesla T4\n",
    "for i in range(5):\n",
    "    train_one_epoch(train_dataloader, model, optimizer)"
   ]
  },
  {
   "cell_type": "code",
   "execution_count": 21,
   "metadata": {},
   "outputs": [
    {
     "name": "stderr",
     "output_type": "stream",
     "text": [
      "100%|██████████| 157/157 [00:02<00:00, 62.75it/s, loss=0.983]\n"
     ]
    }
   ],
   "source": [
    "loss, preds, labels = evaluate(val_dataloader, model)"
   ]
  },
  {
   "cell_type": "code",
   "execution_count": 22,
   "metadata": {},
   "outputs": [
    {
     "data": {
      "text/html": [
       "<div>\n",
       "<style scoped>\n",
       "    .dataframe tbody tr th:only-of-type {\n",
       "        vertical-align: middle;\n",
       "    }\n",
       "\n",
       "    .dataframe tbody tr th {\n",
       "        vertical-align: top;\n",
       "    }\n",
       "\n",
       "    .dataframe thead th {\n",
       "        text-align: right;\n",
       "    }\n",
       "</style>\n",
       "<table border=\"1\" class=\"dataframe\">\n",
       "  <thead>\n",
       "    <tr style=\"text-align: right;\">\n",
       "      <th></th>\n",
       "      <th>0</th>\n",
       "      <th>1</th>\n",
       "      <th>label</th>\n",
       "    </tr>\n",
       "  </thead>\n",
       "  <tbody>\n",
       "    <tr>\n",
       "      <th>0</th>\n",
       "      <td>38.511963</td>\n",
       "      <td>16.713697</td>\n",
       "      <td>9.0</td>\n",
       "    </tr>\n",
       "    <tr>\n",
       "      <th>1</th>\n",
       "      <td>64.323685</td>\n",
       "      <td>28.391975</td>\n",
       "      <td>9.0</td>\n",
       "    </tr>\n",
       "  </tbody>\n",
       "</table>\n",
       "</div>"
      ],
      "text/plain": [
       "           0          1  label\n",
       "0  38.511963  16.713697    9.0\n",
       "1  64.323685  28.391975    9.0"
      ]
     },
     "execution_count": 22,
     "metadata": {},
     "output_type": "execute_result"
    }
   ],
   "source": [
    "preds = pd.DataFrame(preds.numpy())\n",
    "preds['label'] = labels\n",
    "preds.head(2)"
   ]
  },
  {
   "cell_type": "code",
   "execution_count": 23,
   "metadata": {},
   "outputs": [
    {
     "data": {
      "image/png": "[encoded data removed]",
      "text/plain": [
       "<Figure size 432x288 with 1 Axes>"
      ]
     },
     "metadata": {
      "needs_background": "light"
     },
     "output_type": "display_data"
    }
   ],
   "source": [
    "sns.scatterplot(data=preds, x=0, y=1, hue='label', palette='Set2', s=10);\n",
    "plt.title(\"MNIST: Test set distribution\");"
   ]
  },
  {
   "cell_type": "markdown",
   "metadata": {},
   "source": [
    "### With Center Loss"
   ]
  },
  {
   "cell_type": "code",
   "execution_count": 24,
   "metadata": {},
   "outputs": [],
   "source": [
    "# credits: https://github.com/KaiyangZhou/pytorch-center-loss/blob/master/center_loss.py\n",
    "\n",
    "class CenterLoss(nn.Module):\n",
    "    \"\"\"Center loss.\n",
    "    \n",
    "    Reference:\n",
    "    Wen et al. A Discriminative Feature Learning Approach for Deep Face Recognition. ECCV 2016.\n",
    "    \n",
    "    Args:\n",
    "        num_classes (int): number of classes.\n",
    "        feat_dim (int): feature dimension.\n",
    "    \"\"\"\n",
    "    def __init__(self, num_classes=10, feat_dim=2, use_gpu=True):\n",
    "        super(CenterLoss, self).__init__()\n",
    "        self.num_classes = num_classes\n",
    "        self.feat_dim = feat_dim\n",
    "        self.use_gpu = use_gpu\n",
    "\n",
    "        if self.use_gpu:\n",
    "            self.centers = nn.Parameter(torch.randn(self.num_classes, self.feat_dim).cuda())\n",
    "        else:\n",
    "            self.centers = nn.Parameter(torch.randn(self.num_classes, self.feat_dim))\n",
    "\n",
    "    def forward(self, x, labels):\n",
    "        \"\"\"\n",
    "        Args:\n",
    "            x: feature matrix with shape (batch_size, feat_dim).\n",
    "            labels: ground truth labels with shape (batch_size).\n",
    "        \"\"\"\n",
    "        batch_size = x.size(0)\n",
    "        distmat = torch.pow(x, 2).sum(dim=1, keepdim=True).expand(batch_size, self.num_classes) + \\\n",
    "                  torch.pow(self.centers, 2).sum(dim=1, keepdim=True).expand(self.num_classes, batch_size).t()\n",
    "        distmat.addmm_(1, -2, x, self.centers.t())\n",
    "\n",
    "        classes = torch.arange(self.num_classes).long()\n",
    "        if self.use_gpu: classes = classes.cuda()\n",
    "        labels = labels.unsqueeze(1).expand(batch_size, self.num_classes)\n",
    "        mask = labels.eq(classes.expand(batch_size, self.num_classes))\n",
    "\n",
    "        dist = distmat * mask.float()\n",
    "        loss = dist.clamp(min=1e-12, max=1e+12).sum() / batch_size\n",
    "\n",
    "        return loss"
   ]
  },
  {
   "cell_type": "code",
   "execution_count": 26,
   "metadata": {
    "scrolled": true
   },
   "outputs": [
    {
     "name": "stderr",
     "output_type": "stream",
     "text": [
      "100%|██████████| 938/938 [01:02<00:00, 14.89it/s, loss=9.15]\n",
      "100%|██████████| 938/938 [01:03<00:00, 14.82it/s, loss=8.34]\n",
      "100%|██████████| 938/938 [01:03<00:00, 14.67it/s, loss=8.35]\n"
     ]
    }
   ],
   "source": [
    "# TRAINING using Tesla T4\n",
    "for i in range(3):\n",
    "    train_one_epoch(train_dataloader, model, optimizer, loss_fn=CenterLoss(10,10,True))"
   ]
  },
  {
   "cell_type": "code",
   "execution_count": 27,
   "metadata": {},
   "outputs": [
    {
     "name": "stderr",
     "output_type": "stream",
     "text": [
      "100%|██████████| 157/157 [00:02<00:00, 63.02it/s, loss=0.103]  \n"
     ]
    }
   ],
   "source": [
    "loss, preds, labels = evaluate(val_dataloader, model)"
   ]
  },
  {
   "cell_type": "code",
   "execution_count": 28,
   "metadata": {},
   "outputs": [
    {
     "data": {
      "text/html": [
       "<div>\n",
       "<style scoped>\n",
       "    .dataframe tbody tr th:only-of-type {\n",
       "        vertical-align: middle;\n",
       "    }\n",
       "\n",
       "    .dataframe tbody tr th {\n",
       "        vertical-align: top;\n",
       "    }\n",
       "\n",
       "    .dataframe thead th {\n",
       "        text-align: right;\n",
       "    }\n",
       "</style>\n",
       "<table border=\"1\" class=\"dataframe\">\n",
       "  <thead>\n",
       "    <tr style=\"text-align: right;\">\n",
       "      <th></th>\n",
       "      <th>0</th>\n",
       "      <th>1</th>\n",
       "      <th>label</th>\n",
       "    </tr>\n",
       "  </thead>\n",
       "  <tbody>\n",
       "    <tr>\n",
       "      <th>0</th>\n",
       "      <td>0.203384</td>\n",
       "      <td>-0.598501</td>\n",
       "      <td>9.0</td>\n",
       "    </tr>\n",
       "    <tr>\n",
       "      <th>1</th>\n",
       "      <td>0.238211</td>\n",
       "      <td>-0.528210</td>\n",
       "      <td>9.0</td>\n",
       "    </tr>\n",
       "  </tbody>\n",
       "</table>\n",
       "</div>"
      ],
      "text/plain": [
       "          0         1  label\n",
       "0  0.203384 -0.598501    9.0\n",
       "1  0.238211 -0.528210    9.0"
      ]
     },
     "execution_count": 28,
     "metadata": {},
     "output_type": "execute_result"
    }
   ],
   "source": [
    "preds = pd.DataFrame(preds.numpy())\n",
    "preds['label'] = labels\n",
    "preds.head(2)"
   ]
  },
  {
   "cell_type": "code",
   "execution_count": 29,
   "metadata": {},
   "outputs": [
    {
     "data": {
      "image/png": "[encoded data removed]",
      "text/plain": [
       "<Figure size 432x288 with 1 Axes>"
      ]
     },
     "metadata": {
      "needs_background": "light"
     },
     "output_type": "display_data"
    }
   ],
   "source": [
    "sns.scatterplot(data=preds, x=0, y=1, hue='label', palette='Set2', s=10);\n",
    "plt.title(\"MNIST: Test set distribution\");"
   ]
  }
 ],
 "metadata": {
  "kernelspec": {
   "display_name": "Python 3",
   "language": "python",
   "name": "python3"
  },
  "language_info": {
   "codemirror_mode": {
    "name": "ipython",
    "version": 3
   },
   "file_extension": ".py",
   "mimetype": "text/x-python",
   "name": "python",
   "nbconvert_exporter": "python",
   "pygments_lexer": "ipython3",
   "version": "3.6.9"
  },
  "toc": {
   "base_numbering": 1,
   "nav_menu": {},
   "number_sections": true,
   "sideBar": true,
   "skip_h1_title": false,
   "title_cell": "Table of Contents",
   "title_sidebar": "Contents",
   "toc_cell": false,
   "toc_position": {},
   "toc_section_display": true,
   "toc_window_display": false
  }
 },
 "nbformat": 4,
 "nbformat_minor": 2
}
